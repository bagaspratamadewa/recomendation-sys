{
  "nbformat": 4,
  "nbformat_minor": 0,
  "metadata": {
    "colab": {
      "name": "MVP Recomendation System dataset MovieLens",
      "provenance": []
    },
    "kernelspec": {
      "name": "python3",
      "display_name": "Python 3"
    },
    "language_info": {
      "name": "python"
    }
  },
  "cells": [
    {
      "cell_type": "code",
      "metadata": {
        "colab": {
          "base_uri": "https://localhost:8080/"
        },
        "id": "ilOCRANjnqLN",
        "outputId": "8a5e7f45-7272-442c-806f-1543ab944bc9"
      },
      "source": [
        "import pandas as pd\n",
        "import numpy as np\n",
        "import matplotlib.pyplot as plt\n",
        "!pip install surprise"
      ],
      "execution_count": 13,
      "outputs": [
        {
          "output_type": "stream",
          "text": [
            "Collecting surprise\n",
            "  Downloading https://files.pythonhosted.org/packages/61/de/e5cba8682201fcf9c3719a6fdda95693468ed061945493dea2dd37c5618b/surprise-0.1-py2.py3-none-any.whl\n",
            "Collecting scikit-surprise\n",
            "\u001b[?25l  Downloading https://files.pythonhosted.org/packages/97/37/5d334adaf5ddd65da99fc65f6507e0e4599d092ba048f4302fe8775619e8/scikit-surprise-1.1.1.tar.gz (11.8MB)\n",
            "\u001b[K     |████████████████████████████████| 11.8MB 230kB/s \n",
            "\u001b[?25hRequirement already satisfied: joblib>=0.11 in /usr/local/lib/python3.7/dist-packages (from scikit-surprise->surprise) (1.0.1)\n",
            "Requirement already satisfied: numpy>=1.11.2 in /usr/local/lib/python3.7/dist-packages (from scikit-surprise->surprise) (1.19.5)\n",
            "Requirement already satisfied: scipy>=1.0.0 in /usr/local/lib/python3.7/dist-packages (from scikit-surprise->surprise) (1.4.1)\n",
            "Requirement already satisfied: six>=1.10.0 in /usr/local/lib/python3.7/dist-packages (from scikit-surprise->surprise) (1.15.0)\n",
            "Building wheels for collected packages: scikit-surprise\n",
            "  Building wheel for scikit-surprise (setup.py) ... \u001b[?25l\u001b[?25hdone\n",
            "  Created wheel for scikit-surprise: filename=scikit_surprise-1.1.1-cp37-cp37m-linux_x86_64.whl size=1617614 sha256=f51c74860c456bd6c95cb2a43697d2259e0798fb1c336ac92c07b222919a69f0\n",
            "  Stored in directory: /root/.cache/pip/wheels/78/9c/3d/41b419c9d2aff5b6e2b4c0fc8d25c538202834058f9ed110d0\n",
            "Successfully built scikit-surprise\n",
            "Installing collected packages: scikit-surprise, surprise\n",
            "Successfully installed scikit-surprise-1.1.1 surprise-0.1\n"
          ],
          "name": "stdout"
        }
      ]
    },
    {
      "cell_type": "code",
      "metadata": {
        "id": "kPIUN7uMoB7o"
      },
      "source": [
        "rating = pd.read_csv('ratings.csv', sep=',')\n",
        "movie = pd.read_csv('movies.csv', sep=',')"
      ],
      "execution_count": 10,
      "outputs": []
    },
    {
      "cell_type": "markdown",
      "metadata": {
        "id": "8acoAdR1tny0"
      },
      "source": [
        "metricnya pake userid,movieid/productid, jumlah rating = resultnya top-N movies\n"
      ]
    },
    {
      "cell_type": "code",
      "metadata": {
        "colab": {
          "base_uri": "https://localhost:8080/",
          "height": 204
        },
        "id": "UB4_Ik34rmQ3",
        "outputId": "32c365e7-cab9-49a5-deaf-d8d927c0bdaf"
      },
      "source": [
        "rating.head()"
      ],
      "execution_count": 11,
      "outputs": [
        {
          "output_type": "execute_result",
          "data": {
            "text/html": [
              "<div>\n",
              "<style scoped>\n",
              "    .dataframe tbody tr th:only-of-type {\n",
              "        vertical-align: middle;\n",
              "    }\n",
              "\n",
              "    .dataframe tbody tr th {\n",
              "        vertical-align: top;\n",
              "    }\n",
              "\n",
              "    .dataframe thead th {\n",
              "        text-align: right;\n",
              "    }\n",
              "</style>\n",
              "<table border=\"1\" class=\"dataframe\">\n",
              "  <thead>\n",
              "    <tr style=\"text-align: right;\">\n",
              "      <th></th>\n",
              "      <th>userId</th>\n",
              "      <th>movieId</th>\n",
              "      <th>rating</th>\n",
              "      <th>timestamp</th>\n",
              "    </tr>\n",
              "  </thead>\n",
              "  <tbody>\n",
              "    <tr>\n",
              "      <th>0</th>\n",
              "      <td>1</td>\n",
              "      <td>1</td>\n",
              "      <td>4.0</td>\n",
              "      <td>964982703</td>\n",
              "    </tr>\n",
              "    <tr>\n",
              "      <th>1</th>\n",
              "      <td>1</td>\n",
              "      <td>3</td>\n",
              "      <td>4.0</td>\n",
              "      <td>964981247</td>\n",
              "    </tr>\n",
              "    <tr>\n",
              "      <th>2</th>\n",
              "      <td>1</td>\n",
              "      <td>6</td>\n",
              "      <td>4.0</td>\n",
              "      <td>964982224</td>\n",
              "    </tr>\n",
              "    <tr>\n",
              "      <th>3</th>\n",
              "      <td>1</td>\n",
              "      <td>47</td>\n",
              "      <td>5.0</td>\n",
              "      <td>964983815</td>\n",
              "    </tr>\n",
              "    <tr>\n",
              "      <th>4</th>\n",
              "      <td>1</td>\n",
              "      <td>50</td>\n",
              "      <td>5.0</td>\n",
              "      <td>964982931</td>\n",
              "    </tr>\n",
              "  </tbody>\n",
              "</table>\n",
              "</div>"
            ],
            "text/plain": [
              "   userId  movieId  rating  timestamp\n",
              "0       1        1     4.0  964982703\n",
              "1       1        3     4.0  964981247\n",
              "2       1        6     4.0  964982224\n",
              "3       1       47     5.0  964983815\n",
              "4       1       50     5.0  964982931"
            ]
          },
          "metadata": {
            "tags": []
          },
          "execution_count": 11
        }
      ]
    },
    {
      "cell_type": "code",
      "metadata": {
        "colab": {
          "base_uri": "https://localhost:8080/",
          "height": 204
        },
        "id": "ZNbg52kesFrG",
        "outputId": "d97aafbb-b011-43d8-c0e0-84fd383ec32c"
      },
      "source": [
        "movie.head()"
      ],
      "execution_count": 12,
      "outputs": [
        {
          "output_type": "execute_result",
          "data": {
            "text/html": [
              "<div>\n",
              "<style scoped>\n",
              "    .dataframe tbody tr th:only-of-type {\n",
              "        vertical-align: middle;\n",
              "    }\n",
              "\n",
              "    .dataframe tbody tr th {\n",
              "        vertical-align: top;\n",
              "    }\n",
              "\n",
              "    .dataframe thead th {\n",
              "        text-align: right;\n",
              "    }\n",
              "</style>\n",
              "<table border=\"1\" class=\"dataframe\">\n",
              "  <thead>\n",
              "    <tr style=\"text-align: right;\">\n",
              "      <th></th>\n",
              "      <th>movieId</th>\n",
              "      <th>title</th>\n",
              "      <th>genres</th>\n",
              "    </tr>\n",
              "  </thead>\n",
              "  <tbody>\n",
              "    <tr>\n",
              "      <th>0</th>\n",
              "      <td>1</td>\n",
              "      <td>Toy Story (1995)</td>\n",
              "      <td>Adventure|Animation|Children|Comedy|Fantasy</td>\n",
              "    </tr>\n",
              "    <tr>\n",
              "      <th>1</th>\n",
              "      <td>2</td>\n",
              "      <td>Jumanji (1995)</td>\n",
              "      <td>Adventure|Children|Fantasy</td>\n",
              "    </tr>\n",
              "    <tr>\n",
              "      <th>2</th>\n",
              "      <td>3</td>\n",
              "      <td>Grumpier Old Men (1995)</td>\n",
              "      <td>Comedy|Romance</td>\n",
              "    </tr>\n",
              "    <tr>\n",
              "      <th>3</th>\n",
              "      <td>4</td>\n",
              "      <td>Waiting to Exhale (1995)</td>\n",
              "      <td>Comedy|Drama|Romance</td>\n",
              "    </tr>\n",
              "    <tr>\n",
              "      <th>4</th>\n",
              "      <td>5</td>\n",
              "      <td>Father of the Bride Part II (1995)</td>\n",
              "      <td>Comedy</td>\n",
              "    </tr>\n",
              "  </tbody>\n",
              "</table>\n",
              "</div>"
            ],
            "text/plain": [
              "   movieId  ...                                       genres\n",
              "0        1  ...  Adventure|Animation|Children|Comedy|Fantasy\n",
              "1        2  ...                   Adventure|Children|Fantasy\n",
              "2        3  ...                               Comedy|Romance\n",
              "3        4  ...                         Comedy|Drama|Romance\n",
              "4        5  ...                                       Comedy\n",
              "\n",
              "[5 rows x 3 columns]"
            ]
          },
          "metadata": {
            "tags": []
          },
          "execution_count": 12
        }
      ]
    },
    {
      "cell_type": "code",
      "metadata": {
        "colab": {
          "base_uri": "https://localhost:8080/",
          "height": 204
        },
        "id": "18qHg0nyxXXu",
        "outputId": "fe08e731-3d05-44f4-e139-a79a39572faf"
      },
      "source": [
        "df = rating[[\"userId\",\"movieId\",\"rating\"]] #milih data apa aja yg mau diambil (custom dataset)\n",
        "df.head()"
      ],
      "execution_count": 15,
      "outputs": [
        {
          "output_type": "execute_result",
          "data": {
            "text/html": [
              "<div>\n",
              "<style scoped>\n",
              "    .dataframe tbody tr th:only-of-type {\n",
              "        vertical-align: middle;\n",
              "    }\n",
              "\n",
              "    .dataframe tbody tr th {\n",
              "        vertical-align: top;\n",
              "    }\n",
              "\n",
              "    .dataframe thead th {\n",
              "        text-align: right;\n",
              "    }\n",
              "</style>\n",
              "<table border=\"1\" class=\"dataframe\">\n",
              "  <thead>\n",
              "    <tr style=\"text-align: right;\">\n",
              "      <th></th>\n",
              "      <th>userId</th>\n",
              "      <th>movieId</th>\n",
              "      <th>rating</th>\n",
              "    </tr>\n",
              "  </thead>\n",
              "  <tbody>\n",
              "    <tr>\n",
              "      <th>0</th>\n",
              "      <td>1</td>\n",
              "      <td>1</td>\n",
              "      <td>4.0</td>\n",
              "    </tr>\n",
              "    <tr>\n",
              "      <th>1</th>\n",
              "      <td>1</td>\n",
              "      <td>3</td>\n",
              "      <td>4.0</td>\n",
              "    </tr>\n",
              "    <tr>\n",
              "      <th>2</th>\n",
              "      <td>1</td>\n",
              "      <td>6</td>\n",
              "      <td>4.0</td>\n",
              "    </tr>\n",
              "    <tr>\n",
              "      <th>3</th>\n",
              "      <td>1</td>\n",
              "      <td>47</td>\n",
              "      <td>5.0</td>\n",
              "    </tr>\n",
              "    <tr>\n",
              "      <th>4</th>\n",
              "      <td>1</td>\n",
              "      <td>50</td>\n",
              "      <td>5.0</td>\n",
              "    </tr>\n",
              "  </tbody>\n",
              "</table>\n",
              "</div>"
            ],
            "text/plain": [
              "   userId  movieId  rating\n",
              "0       1        1     4.0\n",
              "1       1        3     4.0\n",
              "2       1        6     4.0\n",
              "3       1       47     5.0\n",
              "4       1       50     5.0"
            ]
          },
          "metadata": {
            "tags": []
          },
          "execution_count": 15
        }
      ]
    },
    {
      "cell_type": "code",
      "metadata": {
        "colab": {
          "base_uri": "https://localhost:8080/"
        },
        "id": "zb9EfaaHx0xC",
        "outputId": "6e025c95-b3a9-4327-bf45-db4b8acf32cd"
      },
      "source": [
        "min_rating = df[\"rating\"].min()\n",
        "max_rating = df[\"rating\"].max()\n",
        "\n",
        "print(\"Range rating: {0} to {1}\".format(min_rating, max_rating))"
      ],
      "execution_count": 17,
      "outputs": [
        {
          "output_type": "stream",
          "text": [
            "Range rating: 0.5 to 5.0\n"
          ],
          "name": "stdout"
        }
      ]
    },
    {
      "cell_type": "markdown",
      "metadata": {
        "id": "8gYiFFFx1VDm"
      },
      "source": [
        "BOOST PERFORMA MODEL ML dengan Hyperparameter Tuning"
      ]
    },
    {
      "cell_type": "code",
      "metadata": {
        "colab": {
          "base_uri": "https://localhost:8080/"
        },
        "id": "woDteHfTyzj0",
        "outputId": "61c6753a-e936-450e-e89f-2ccab43ff055"
      },
      "source": [
        "from surprise import Reader\n",
        "from surprise import Dataset\n",
        "from surprise import SVD\n",
        "from surprise.model_selection import GridSearchCV\n",
        "\n",
        "# load data ke format bawaan surprise\n",
        "reader = Reader(rating_scale=(min_rating, max_rating))\n",
        "data = Dataset.load_from_df(df, reader = reader)\n",
        "\n",
        "param_grid = {\n",
        "    'n_epochs': [5, 10], \n",
        "    'n_factors': [20, 50, 100]\n",
        "}\n",
        "gs = GridSearchCV(SVD, param_grid, measures=['rmse', 'mae'], cv=5)\n",
        "gs.fit(data)\n",
        "\n",
        "# best RMSE score\n",
        "print(gs.best_score['rmse'])\n",
        "\n",
        "# combination of parameters that gave the best RMSE score\n",
        "print(gs.best_params['rmse'])"
      ],
      "execution_count": 23,
      "outputs": [
        {
          "output_type": "stream",
          "text": [
            "0.8777457442176335\n",
            "{'n_epochs': 10, 'n_factors': 20}\n"
          ],
          "name": "stdout"
        }
      ]
    },
    {
      "cell_type": "code",
      "metadata": {
        "colab": {
          "base_uri": "https://localhost:8080/"
        },
        "id": "Ub01gKIS5vVq",
        "outputId": "e7cbe134-3e60-49b2-8e3e-7345f42e332c"
      },
      "source": [
        "#nyimpen value factor ke dalam variable\n",
        "best_factor = gs.best_params['rmse']['n_factors']\n",
        "best_factor"
      ],
      "execution_count": 26,
      "outputs": [
        {
          "output_type": "execute_result",
          "data": {
            "text/plain": [
              "20"
            ]
          },
          "metadata": {
            "tags": []
          },
          "execution_count": 26
        }
      ]
    },
    {
      "cell_type": "code",
      "metadata": {
        "colab": {
          "base_uri": "https://localhost:8080/"
        },
        "id": "24S_WY1B6NjG",
        "outputId": "a026e0f7-020f-4c5b-af53-e9bc1f288295"
      },
      "source": [
        "#nyimpen value epoch ke dalam variable\n",
        "best_epoch = gs.best_params['rmse']['n_epochs']\n",
        "best_epoch"
      ],
      "execution_count": 28,
      "outputs": [
        {
          "output_type": "execute_result",
          "data": {
            "text/plain": [
              "10"
            ]
          },
          "metadata": {
            "tags": []
          },
          "execution_count": 28
        }
      ]
    },
    {
      "cell_type": "markdown",
      "metadata": {
        "id": "fE9LFR7d6uR8"
      },
      "source": [
        "LANJUT KE TOP-N Recomend"
      ]
    },
    {
      "cell_type": "code",
      "metadata": {
        "colab": {
          "base_uri": "https://localhost:8080/"
        },
        "id": "ATZl-ngq6shG",
        "outputId": "4bcba4fc-96bb-48fb-e945-462a90fd8a3a"
      },
      "source": [
        "from surprise import Reader\n",
        "from surprise import Dataset\n",
        "from surprise.model_selection import train_test_split\n",
        "from surprise import SVD\n",
        "from surprise import accuracy\n",
        "\n",
        "# load data ke format bawaan surprise\n",
        "reader = Reader(rating_scale=(min_rating, max_rating))\n",
        "data = Dataset.load_from_df(df, reader = reader)\n",
        "\n",
        "# Bagi dataset menjadi 20:80\n",
        "trainset, testset = train_test_split(data, test_size=.20)\n",
        "\n",
        "#Gunakan algo SVD\n",
        "algo = SVD(n_factors=best_factor, n_epochs=best_epoch)\n",
        "\n",
        "#mulai latihan \n",
        "algo.fit(trainset)"
      ],
      "execution_count": 29,
      "outputs": [
        {
          "output_type": "execute_result",
          "data": {
            "text/plain": [
              "<surprise.prediction_algorithms.matrix_factorization.SVD at 0x7f78d296a390>"
            ]
          },
          "metadata": {
            "tags": []
          },
          "execution_count": 29
        }
      ]
    },
    {
      "cell_type": "code",
      "metadata": {
        "id": "Yna95lPF7teC"
      },
      "source": [
        "# Pilih User ID yang ingin direkomendasikan\n",
        "userID = 2"
      ],
      "execution_count": 43,
      "outputs": []
    },
    {
      "cell_type": "code",
      "metadata": {
        "colab": {
          "base_uri": "https://localhost:8080/",
          "height": 204
        },
        "id": "JFmHB-Lm8ZoQ",
        "outputId": "b69e02b5-d80f-4796-c3b9-5d156c17036d"
      },
      "source": [
        "df.head()"
      ],
      "execution_count": 32,
      "outputs": [
        {
          "output_type": "execute_result",
          "data": {
            "text/html": [
              "<div>\n",
              "<style scoped>\n",
              "    .dataframe tbody tr th:only-of-type {\n",
              "        vertical-align: middle;\n",
              "    }\n",
              "\n",
              "    .dataframe tbody tr th {\n",
              "        vertical-align: top;\n",
              "    }\n",
              "\n",
              "    .dataframe thead th {\n",
              "        text-align: right;\n",
              "    }\n",
              "</style>\n",
              "<table border=\"1\" class=\"dataframe\">\n",
              "  <thead>\n",
              "    <tr style=\"text-align: right;\">\n",
              "      <th></th>\n",
              "      <th>userId</th>\n",
              "      <th>movieId</th>\n",
              "      <th>rating</th>\n",
              "    </tr>\n",
              "  </thead>\n",
              "  <tbody>\n",
              "    <tr>\n",
              "      <th>0</th>\n",
              "      <td>1</td>\n",
              "      <td>1</td>\n",
              "      <td>4.0</td>\n",
              "    </tr>\n",
              "    <tr>\n",
              "      <th>1</th>\n",
              "      <td>1</td>\n",
              "      <td>3</td>\n",
              "      <td>4.0</td>\n",
              "    </tr>\n",
              "    <tr>\n",
              "      <th>2</th>\n",
              "      <td>1</td>\n",
              "      <td>6</td>\n",
              "      <td>4.0</td>\n",
              "    </tr>\n",
              "    <tr>\n",
              "      <th>3</th>\n",
              "      <td>1</td>\n",
              "      <td>47</td>\n",
              "      <td>5.0</td>\n",
              "    </tr>\n",
              "    <tr>\n",
              "      <th>4</th>\n",
              "      <td>1</td>\n",
              "      <td>50</td>\n",
              "      <td>5.0</td>\n",
              "    </tr>\n",
              "  </tbody>\n",
              "</table>\n",
              "</div>"
            ],
            "text/plain": [
              "   userId  movieId  rating\n",
              "0       1        1     4.0\n",
              "1       1        3     4.0\n",
              "2       1        6     4.0\n",
              "3       1       47     5.0\n",
              "4       1       50     5.0"
            ]
          },
          "metadata": {
            "tags": []
          },
          "execution_count": 32
        }
      ]
    },
    {
      "cell_type": "code",
      "metadata": {
        "colab": {
          "base_uri": "https://localhost:8080/"
        },
        "id": "VQUt9c4t8uVL",
        "outputId": "d8659181-8e17-4519-ddca-2dc622d17f92"
      },
      "source": [
        "# Dapet List semua movie ID dari dataset\n",
        "movie_ids = df[\"movieId\"].unique()\n",
        "movie_ids"
      ],
      "execution_count": 33,
      "outputs": [
        {
          "output_type": "execute_result",
          "data": {
            "text/plain": [
              "array([     1,      3,      6, ..., 160836, 163937, 163981])"
            ]
          },
          "metadata": {
            "tags": []
          },
          "execution_count": 33
        }
      ]
    },
    {
      "cell_type": "code",
      "metadata": {
        "colab": {
          "base_uri": "https://localhost:8080/"
        },
        "id": "5DvAFaGI81yE",
        "outputId": "33b5fc25-631c-461d-f7ac-50c57c120d8a"
      },
      "source": [
        "# Dapetin List movie yang sudah pernah dilihat user\n",
        "movie_ids_user = df.loc[df[\"userId\"] == userID, \"movieId\"]\n",
        "movie_ids_user"
      ],
      "execution_count": 44,
      "outputs": [
        {
          "output_type": "execute_result",
          "data": {
            "text/plain": [
              "232       318\n",
              "233       333\n",
              "234      1704\n",
              "235      3578\n",
              "236      6874\n",
              "237      8798\n",
              "238     46970\n",
              "239     48516\n",
              "240     58559\n",
              "241     60756\n",
              "242     68157\n",
              "243     71535\n",
              "244     74458\n",
              "245     77455\n",
              "246     79132\n",
              "247     80489\n",
              "248     80906\n",
              "249     86345\n",
              "250     89774\n",
              "251     91529\n",
              "252     91658\n",
              "253     99114\n",
              "254    106782\n",
              "255    109487\n",
              "256    112552\n",
              "257    114060\n",
              "258    115713\n",
              "259    122882\n",
              "260    131724\n",
              "Name: movieId, dtype: int64"
            ]
          },
          "metadata": {
            "tags": []
          },
          "execution_count": 44
        }
      ]
    },
    {
      "cell_type": "code",
      "metadata": {
        "id": "Qh5ipXqj9sVu"
      },
      "source": [
        "# Cari selisih antara movie yang ada dengan movie yang sudah dilihat user\n",
        "movie_ids_to_prediction = np.setdiff1d(movie_ids, movie_ids_user)"
      ],
      "execution_count": 45,
      "outputs": []
    },
    {
      "cell_type": "code",
      "metadata": {
        "id": "B4_CPUK2-wH0"
      },
      "source": [
        "#Buat test set dengan metric prediksi user id dan movie id\n",
        "test_set = [[userID, movie_id, 4] for movie_id in movie_ids_to_prediction]"
      ],
      "execution_count": 47,
      "outputs": []
    },
    {
      "cell_type": "code",
      "metadata": {
        "colab": {
          "base_uri": "https://localhost:8080/"
        },
        "id": "mGM87WWA_clT",
        "outputId": "b5d3e3ee-dd30-4148-8ade-243597ac51b8"
      },
      "source": [
        "#mulai prediksi\n",
        "predictions = algo.test(test_set)\n",
        "\n",
        "#cari rata rata prediksi\n",
        "predictions[0]"
      ],
      "execution_count": 49,
      "outputs": [
        {
          "output_type": "execute_result",
          "data": {
            "text/plain": [
              "Prediction(uid=2, iid=1, r_ui=4, est=4.059047767444006, details={'was_impossible': False})"
            ]
          },
          "metadata": {
            "tags": []
          },
          "execution_count": 49
        }
      ]
    },
    {
      "cell_type": "code",
      "metadata": {
        "colab": {
          "base_uri": "https://localhost:8080/"
        },
        "id": "BO3pssZGArib",
        "outputId": "a9ce142a-3c50-472f-cefa-852514f00a43"
      },
      "source": [
        "# prediction estimation akan menjadi dasar dari mencari rekomendasi\n",
        "pred_ratings = np.array([pred.est for pred in predictions])\n",
        "pred_ratings"
      ],
      "execution_count": 50,
      "outputs": [
        {
          "output_type": "execute_result",
          "data": {
            "text/plain": [
              "array([4.05904777, 3.76251503, 3.44424127, ..., 3.61803987, 3.6328019 ,\n",
              "       3.7638184 ])"
            ]
          },
          "metadata": {
            "tags": []
          },
          "execution_count": 50
        }
      ]
    },
    {
      "cell_type": "code",
      "metadata": {
        "id": "oFy7Lke-BQ0w"
      },
      "source": [
        "n_items = 10"
      ],
      "execution_count": 55,
      "outputs": []
    },
    {
      "cell_type": "code",
      "metadata": {
        "colab": {
          "base_uri": "https://localhost:8080/"
        },
        "id": "muiEeOOYBYFL",
        "outputId": "384dcfb6-5272-47ff-95d7-5534983fc7ce"
      },
      "source": [
        "print(\"Top {0} item recommendations for user {1}:\".format(n_items, userID))\n",
        "index_max = (-pred_ratings).argsort()[:n_items]\n",
        "for i in index_max:\n",
        "    movie_id = movie_ids_to_prediction[i]\n",
        "    print(movie[movie[\"movieId\"]==movie_id][\"title\"].values[0], pred_ratings[i])"
      ],
      "execution_count": 59,
      "outputs": [
        {
          "output_type": "stream",
          "text": [
            "Top 10 item recommendations for user 2:\n",
            "Dr. Strangelove or: How I Learned to Stop Worrying and Love the Bomb (1964) 4.505673747839341\n",
            "Godfather: Part II, The (1974) 4.447499012836327\n",
            "Apocalypse Now (1979) 4.443461202490077\n",
            "Monty Python and the Holy Grail (1975) 4.436203921947562\n",
            "Fight Club (1999) 4.414217346818807\n",
            "Amelie (Fabuleux destin d'Amélie Poulain, Le) (2001) 4.40614803008992\n",
            "Godfather, The (1972) 4.400774068196461\n",
            "Matrix, The (1999) 4.39449148175108\n",
            "Usual Suspects, The (1995) 4.385192328755067\n",
            "Amadeus (1984) 4.384928441121724\n"
          ],
          "name": "stdout"
        }
      ]
    }
  ]
}